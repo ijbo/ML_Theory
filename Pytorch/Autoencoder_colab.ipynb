{
  "nbformat": 4,
  "nbformat_minor": 0,
  "metadata": {
    "colab": {
      "name": "Autoencoder.ipynb",
      "provenance": []
    },
    "kernelspec": {
      "name": "python3",
      "display_name": "Python 3"
    },
    "accelerator": "GPU"
  },
  "cells": [
    {
      "cell_type": "code",
      "metadata": {
        "id": "eTf8A20jjVff",
        "colab_type": "code",
        "colab": {}
      },
      "source": [
        ""
      ],
      "execution_count": 0,
      "outputs": []
    },
    {
      "cell_type": "code",
      "metadata": {
        "id": "y3kGB-_ojgqa",
        "colab_type": "code",
        "colab": {
          "base_uri": "https://localhost:8080/",
          "height": 122
        },
        "outputId": "84906314-3678-43a4-e462-a7a3bc8d2b86"
      },
      "source": [
        "from google.colab import drive\n",
        "drive.mount('/content/drive')"
      ],
      "execution_count": 1,
      "outputs": [
        {
          "output_type": "stream",
          "text": [
            "Go to this URL in a browser: https://accounts.google.com/o/oauth2/auth?client_id=947318989803-6bn6qk8qdgf4n4g3pfee6491hc0brc4i.apps.googleusercontent.com&redirect_uri=urn%3aietf%3awg%3aoauth%3a2.0%3aoob&response_type=code&scope=email%20https%3a%2f%2fwww.googleapis.com%2fauth%2fdocs.test%20https%3a%2f%2fwww.googleapis.com%2fauth%2fdrive%20https%3a%2f%2fwww.googleapis.com%2fauth%2fdrive.photos.readonly%20https%3a%2f%2fwww.googleapis.com%2fauth%2fpeopleapi.readonly\n",
            "\n",
            "Enter your authorization code:\n",
            "··········\n",
            "Mounted at /content/drive\n"
          ],
          "name": "stdout"
        }
      ]
    },
    {
      "cell_type": "code",
      "metadata": {
        "id": "K9_T70fAjsKn",
        "colab_type": "code",
        "colab": {
          "base_uri": "https://localhost:8080/",
          "height": 34
        },
        "outputId": "cb5a75e9-4080-4a10-fce2-115358956340"
      },
      "source": [
        "!pwd"
      ],
      "execution_count": 4,
      "outputs": [
        {
          "output_type": "stream",
          "text": [
            "/content\n"
          ],
          "name": "stdout"
        }
      ]
    },
    {
      "cell_type": "code",
      "metadata": {
        "id": "k8nPIOdnjsNt",
        "colab_type": "code",
        "colab": {}
      },
      "source": [
        "import os"
      ],
      "execution_count": 0,
      "outputs": []
    },
    {
      "cell_type": "code",
      "metadata": {
        "id": "nfKTqIrijsnM",
        "colab_type": "code",
        "colab": {}
      },
      "source": [
        "os.chdir('/content/sample_data')"
      ],
      "execution_count": 0,
      "outputs": []
    },
    {
      "cell_type": "code",
      "metadata": {
        "id": "DTADLwixkF6m",
        "colab_type": "code",
        "colab": {}
      },
      "source": [
        "import torch\n",
        "import torch.nn as nn\n",
        "import torch.nn.functional as F\n",
        "import torchvision.transforms as transforms\n",
        "import torchvision.datasets as dsets\n",
        "import matplotlib.pyplot as plt\n",
        "import numpy as np\n",
        "%matplotlib inline\n",
        "figsize=(15, 6)\n",
        "plt.style.use('fivethirtyeight')"
      ],
      "execution_count": 0,
      "outputs": []
    },
    {
      "cell_type": "code",
      "metadata": {
        "id": "JQ77doaKkGFD",
        "colab_type": "code",
        "colab": {
          "base_uri": "https://localhost:8080/",
          "height": 275
        },
        "outputId": "d94c0bec-13c9-448e-b324-d48cb1ddadd6"
      },
      "source": [
        "# Fashion-MNIST data loader\n",
        "train_dataset = dsets.FashionMNIST(root='./data',\n",
        "                                   train=True,\n",
        "                                   transform=transforms.ToTensor(),\n",
        "                                   download=True)\n",
        "\n",
        "test_dataset = dsets.FashionMNIST(root='./data',\n",
        "                                  train=False,\n",
        "                                  transform=transforms.ToTensor())"
      ],
      "execution_count": 8,
      "outputs": [
        {
          "output_type": "stream",
          "text": [
            "  0%|          | 131072/26421880 [00:00<00:20, 1310524.40it/s]"
          ],
          "name": "stderr"
        },
        {
          "output_type": "stream",
          "text": [
            "Downloading http://fashion-mnist.s3-website.eu-central-1.amazonaws.com/train-images-idx3-ubyte.gz to ./data/FashionMNIST/raw/train-images-idx3-ubyte.gz\n"
          ],
          "name": "stdout"
        },
        {
          "output_type": "stream",
          "text": [
            "26427392it [00:00, 84153474.36it/s]                             \n"
          ],
          "name": "stderr"
        },
        {
          "output_type": "stream",
          "text": [
            "Extracting ./data/FashionMNIST/raw/train-images-idx3-ubyte.gz to ./data/FashionMNIST/raw\n"
          ],
          "name": "stdout"
        },
        {
          "output_type": "stream",
          "text": [
            "32768it [00:00, 615862.49it/s]\n",
            " 20%|█▉        | 876544/4422102 [00:00<00:00, 8403237.43it/s]"
          ],
          "name": "stderr"
        },
        {
          "output_type": "stream",
          "text": [
            "Downloading http://fashion-mnist.s3-website.eu-central-1.amazonaws.com/train-labels-idx1-ubyte.gz to ./data/FashionMNIST/raw/train-labels-idx1-ubyte.gz\n",
            "Extracting ./data/FashionMNIST/raw/train-labels-idx1-ubyte.gz to ./data/FashionMNIST/raw\n",
            "Downloading http://fashion-mnist.s3-website.eu-central-1.amazonaws.com/t10k-images-idx3-ubyte.gz to ./data/FashionMNIST/raw/t10k-images-idx3-ubyte.gz\n"
          ],
          "name": "stdout"
        },
        {
          "output_type": "stream",
          "text": [
            "4423680it [00:00, 31351397.59it/s]                           \n",
            "8192it [00:00, 116100.20it/s]\n"
          ],
          "name": "stderr"
        },
        {
          "output_type": "stream",
          "text": [
            "Extracting ./data/FashionMNIST/raw/t10k-images-idx3-ubyte.gz to ./data/FashionMNIST/raw\n",
            "Downloading http://fashion-mnist.s3-website.eu-central-1.amazonaws.com/t10k-labels-idx1-ubyte.gz to ./data/FashionMNIST/raw/t10k-labels-idx1-ubyte.gz\n",
            "Extracting ./data/FashionMNIST/raw/t10k-labels-idx1-ubyte.gz to ./data/FashionMNIST/raw\n",
            "Processing...\n",
            "Done!\n"
          ],
          "name": "stdout"
        }
      ]
    },
    {
      "cell_type": "code",
      "metadata": {
        "id": "JcJi8WQ6kGJE",
        "colab_type": "code",
        "colab": {}
      },
      "source": [
        "# Batch size, iterations and epochs\n",
        "batch_size = 100\n",
        "n_iters = 15000\n",
        "num_epochs = n_iters / (len(train_dataset) / batch_size)\n",
        "num_epochs = int(num_epochs)\n",
        "\n",
        "train_loader = torch.utils.data.DataLoader(dataset=train_dataset, \n",
        "                                           batch_size=batch_size, \n",
        "                                           shuffle=True)\n",
        "\n",
        "test_loader = torch.utils.data.DataLoader(dataset=test_dataset, \n",
        "                                          batch_size=batch_size, \n",
        "                                          shuffle=False)"
      ],
      "execution_count": 0,
      "outputs": []
    },
    {
      "cell_type": "code",
      "metadata": {
        "id": "ezVp7bZCkMyn",
        "colab_type": "code",
        "colab": {
          "base_uri": "https://localhost:8080/",
          "height": 300
        },
        "outputId": "057cfdc6-a36b-4ee9-90b0-f6dfd280525c"
      },
      "source": [
        "# Sample 0: boot\n",
        "sample_num = 0\n",
        "show_img = train_dataset[sample_num][0].numpy().reshape(28, 28)\n",
        "label = train_dataset[sample_num][1]\n",
        "print(f'Label {label}')\n",
        "plt.imshow(show_img, cmap='gray');"
      ],
      "execution_count": 28,
      "outputs": [
        {
          "output_type": "stream",
          "text": [
            "Label 9\n"
          ],
          "name": "stdout"
        },
        {
          "output_type": "display_data",
          "data": {
            "image/png": "[encoded data removed]",
            "text/plain": [
              "<Figure size 432x288 with 1 Axes>"
            ]
          },
          "metadata": {
            "tags": []
          }
        }
      ]
    },
    {
      "cell_type": "code",
      "metadata": {
        "id": "8NNL94_vkM9o",
        "colab_type": "code",
        "colab": {
          "base_uri": "https://localhost:8080/",
          "height": 300
        },
        "outputId": "943a84a6-cb2e-407b-a6c3-55bec8fa6e94"
      },
      "source": [
        "# Sample 1: shirt\n",
        "sample_num = 1\n",
        "show_img = train_dataset[sample_num][0].numpy().reshape(28, 28)\n",
        "label = train_dataset[sample_num][1]\n",
        "print(f'Label {label}')\n",
        "plt.imshow(show_img, cmap='gray');"
      ],
      "execution_count": 29,
      "outputs": [
        {
          "output_type": "stream",
          "text": [
            "Label 0\n"
          ],
          "name": "stdout"
        },
        {
          "output_type": "display_data",
          "data": {
            "image/png": "[encoded data removed]",
            "text/plain": [
              "<Figure size 432x288 with 1 Axes>"
            ]
          },
          "metadata": {
            "tags": []
          }
        }
      ]
    },
    {
      "cell_type": "code",
      "metadata": {
        "id": "UHiFx6qVkM7S",
        "colab_type": "code",
        "colab": {
          "base_uri": "https://localhost:8080/",
          "height": 300
        },
        "outputId": "4b8ed897-d7b3-4f1c-d7aa-800e2b3ed5fe"
      },
      "source": [
        "# Sample 3: dress\n",
        "sample_num = 3\n",
        "show_img = train_dataset[sample_num][0].numpy().reshape(28, 28)\n",
        "label = train_dataset[sample_num][1]\n",
        "print(f'Label {label}')\n",
        "plt.imshow(show_img, cmap='gray');"
      ],
      "execution_count": 30,
      "outputs": [
        {
          "output_type": "stream",
          "text": [
            "Label 3\n"
          ],
          "name": "stdout"
        },
        {
          "output_type": "display_data",
          "data": {
            "image/png": "[encoded data removed]",
            "text/plain": [
              "<Figure size 432x288 with 1 Axes>"
            ]
          },
          "metadata": {
            "tags": []
          }
        }
      ]
    },
    {
      "cell_type": "code",
      "metadata": {
        "id": "IgeY28jTkM5o",
        "colab_type": "code",
        "colab": {
          "base_uri": "https://localhost:8080/",
          "height": 51
        },
        "outputId": "78304b76-3799-43b6-c897-e96ac4e00405"
      },
      "source": [
        "min_pixel_value = train_dataset[sample_num][0].min()\n",
        "max_pixel_value = train_dataset[sample_num][0].max()\n",
        "\n",
        "print(f'Minimum pixel value: {min_pixel_value}')\n",
        "print(f'Maximum pixel value: {max_pixel_value}')"
      ],
      "execution_count": 31,
      "outputs": [
        {
          "output_type": "stream",
          "text": [
            "Minimum pixel value: 0.0\n",
            "Maximum pixel value: 1.0\n"
          ],
          "name": "stdout"
        }
      ]
    },
    {
      "cell_type": "code",
      "metadata": {
        "id": "pDfLtCKAkiQZ",
        "colab_type": "code",
        "colab": {}
      },
      "source": [
        "# Model definition\n",
        "class FullyConnectedAutoencoder(nn.Module):\n",
        "    def __init__(self, input_dim, hidden_dim, output_dim):\n",
        "        super().__init__()\n",
        "        # Encoder: affine function\n",
        "        self.fc1 = nn.Linear(input_dim, hidden_dim)\n",
        "        # Decoder: affine function\n",
        "        self.fc2 = nn.Linear(hidden_dim, output_dim)\n",
        "\n",
        "    def forward(self, x):\n",
        "        # Encoder: affine function\n",
        "        out = self.fc1(x)\n",
        "        # Encoder: non-linear function\n",
        "        out = F.leaky_relu(out)\n",
        "\n",
        "        # Decoder: affine function\n",
        "        out = self.fc2(out)\n",
        "        # Decoder: non-linear function\n",
        "        out = torch.sigmoid(out)\n",
        "\n",
        "        return out"
      ],
      "execution_count": 0,
      "outputs": []
    },
    {
      "cell_type": "code",
      "metadata": {
        "id": "txlIBJkgkiWd",
        "colab_type": "code",
        "colab": {}
      },
      "source": [
        "# Dimensions for overcomplete (larger latent representation)\n",
        "input_dim = 28*28\n",
        "hidden_dim = int(input_dim * 1.5)\n",
        "output_dim = input_dim\n",
        "\n",
        "# Instantiate Fully-connected Autoencoder (FC-AE)\n",
        "# And assign to model object\n",
        "model = FullyConnectedAutoencoder(input_dim, hidden_dim, output_dim)"
      ],
      "execution_count": 0,
      "outputs": []
    },
    {
      "cell_type": "code",
      "metadata": {
        "id": "dvaYr905kiZX",
        "colab_type": "code",
        "colab": {}
      },
      "source": [
        "# We want to minimize the per pixel reconstruction loss\n",
        "# So we've to use the mean squared error (MSE) loss\n",
        "# This is similar to our regression tasks' loss\n",
        "criterion = nn.MSELoss()"
      ],
      "execution_count": 0,
      "outputs": []
    },
    {
      "cell_type": "code",
      "metadata": {
        "id": "2GiG1SAtkiUq",
        "colab_type": "code",
        "colab": {}
      },
      "source": [
        "# Using basic Adam optimizer\n",
        "learning_rate = 1e-3\n",
        "optimizer = torch.optim.Adam(model.parameters(), lr=learning_rate) "
      ],
      "execution_count": 0,
      "outputs": []
    },
    {
      "cell_type": "code",
      "metadata": {
        "id": "ouPK9Msdk-lG",
        "colab_type": "code",
        "colab": {
          "base_uri": "https://localhost:8080/",
          "height": 85
        },
        "outputId": "4b9ef953-bbc1-4d5f-c43d-c967606c3341"
      },
      "source": [
        "# Parameter inspection\n",
        "num_params_group = len(list(model.parameters()))\n",
        "for group_idx in range(num_params_group):\n",
        "    print(list(model.parameters())[group_idx].size())"
      ],
      "execution_count": 35,
      "outputs": [
        {
          "output_type": "stream",
          "text": [
            "torch.Size([1176, 784])\n",
            "torch.Size([1176])\n",
            "torch.Size([784, 1176])\n",
            "torch.Size([784])\n"
          ],
          "name": "stdout"
        }
      ]
    },
    {
      "cell_type": "code",
      "metadata": {
        "id": "d-ExRXjzk-pw",
        "colab_type": "code",
        "colab": {
          "base_uri": "https://localhost:8080/",
          "height": 527
        },
        "outputId": "fffe83cd-20c0-4bd6-87dc-120d4f0e62df"
      },
      "source": [
        "idx = 0\n",
        "\n",
        "# Dropout for creating noisy images\n",
        "# by dropping out pixel with a 50% probability\n",
        "dropout = nn.Dropout(0.5)\n",
        "\n",
        "for epoch in range(num_epochs):\n",
        "    for i, (images, labels) in enumerate(train_loader):\n",
        "        # Load images with gradient accumulation capabilities\n",
        "        images = images.view(-1, 28*28).requires_grad_()\n",
        "\n",
        "        # Noisy images\n",
        "        noisy_images = dropout(torch.ones(images.shape)) * images\n",
        "\n",
        "        # Clear gradients w.r.t. parameters\n",
        "        optimizer.zero_grad()\n",
        "\n",
        "        # Forward pass to get output\n",
        "        outputs = model(noisy_images)\n",
        "\n",
        "        # Calculate Loss: MSE Loss based on pixel-to-pixel comparison\n",
        "        loss = criterion(outputs, images)\n",
        "\n",
        "        # Getting gradients w.r.t. parameters via backpropagation\n",
        "        loss.backward()\n",
        "\n",
        "        # Updating parameters via gradient descent\n",
        "        optimizer.step()\n",
        "\n",
        "        idx += 1\n",
        "\n",
        "        if idx % 500 == 0:\n",
        "            # Calculate MSE Test Loss\n",
        "            total_test_loss = 0\n",
        "            total_samples = 0\n",
        "\n",
        "            # Iterate through test dataset\n",
        "            for images, labels in test_loader:\n",
        "                # Noisy images\n",
        "                noisy_images = dropout(torch.ones(images.shape)) * images\n",
        "\n",
        "                # Forward pass only to get logits/output\n",
        "                outputs = model(noisy_images.view(-1, 28*28))\n",
        "\n",
        "                # Test loss\n",
        "                test_loss = criterion(outputs, images.view(-1, 28*28))\n",
        "\n",
        "                # Total number of labels\n",
        "                total_samples += labels.size(0)\n",
        "\n",
        "                # Total test loss\n",
        "                total_test_loss += test_loss\n",
        "\n",
        "            mean_test_loss = total_test_loss / total_samples\n",
        "\n",
        "            # Print Loss\n",
        "            print(f'Iteration: {idx}. Average Test Loss: {mean_test_loss.item()}.')"
      ],
      "execution_count": 36,
      "outputs": [
        {
          "output_type": "stream",
          "text": [
            "Iteration: 500. Average Test Loss: 0.00016121419321279973.\n",
            "Iteration: 1000. Average Test Loss: 0.000139392854180187.\n",
            "Iteration: 1500. Average Test Loss: 0.0001343157928204164.\n",
            "Iteration: 2000. Average Test Loss: 0.00012427647016011178.\n",
            "Iteration: 2500. Average Test Loss: 0.00012320165114942938.\n",
            "Iteration: 3000. Average Test Loss: 0.00011917087977053598.\n",
            "Iteration: 3500. Average Test Loss: 0.00011586597975110635.\n",
            "Iteration: 4000. Average Test Loss: 0.00011462692054919899.\n",
            "Iteration: 4500. Average Test Loss: 0.00011385980906197801.\n",
            "Iteration: 5000. Average Test Loss: 0.00011179380089743063.\n",
            "Iteration: 5500. Average Test Loss: 0.00011125623859697953.\n",
            "Iteration: 6000. Average Test Loss: 0.00010979744547512382.\n",
            "Iteration: 6500. Average Test Loss: 0.00010936623584711924.\n",
            "Iteration: 7000. Average Test Loss: 0.00010905769158853218.\n",
            "Iteration: 7500. Average Test Loss: 0.00011070996697526425.\n",
            "Iteration: 8000. Average Test Loss: 0.0001082516901078634.\n",
            "Iteration: 8500. Average Test Loss: 0.00010777542775031179.\n",
            "Iteration: 9000. Average Test Loss: 0.00010747256601462141.\n",
            "Iteration: 9500. Average Test Loss: 0.00010710148490034044.\n",
            "Iteration: 10000. Average Test Loss: 0.00010644825670169666.\n",
            "Iteration: 10500. Average Test Loss: 0.00010658136307029054.\n",
            "Iteration: 11000. Average Test Loss: 0.00010662846761988476.\n",
            "Iteration: 11500. Average Test Loss: 0.00010628867312334478.\n",
            "Iteration: 12000. Average Test Loss: 0.00010595730418572202.\n",
            "Iteration: 12500. Average Test Loss: 0.00010520740761421621.\n",
            "Iteration: 13000. Average Test Loss: 0.00010561100498307496.\n",
            "Iteration: 13500. Average Test Loss: 0.00010533197928452864.\n",
            "Iteration: 14000. Average Test Loss: 0.00010551347804721445.\n",
            "Iteration: 14500. Average Test Loss: 0.00010499191557755694.\n",
            "Iteration: 15000. Average Test Loss: 0.00010513822053326294.\n"
          ],
          "name": "stdout"
        }
      ]
    },
    {
      "cell_type": "code",
      "metadata": {
        "id": "YX5Fry4Qk-vA",
        "colab_type": "code",
        "colab": {
          "base_uri": "https://localhost:8080/",
          "height": 300
        },
        "outputId": "04a886a3-baef-48bd-9da4-7fc4c6a65956"
      },
      "source": [
        "# Test sample: Raw\n",
        "sample_num = 10\n",
        "raw_img = test_dataset[sample_num][0]\n",
        "show_img = raw_img.numpy().reshape(28, 28)\n",
        "label = test_dataset[sample_num][1]\n",
        "print(f'Label {label}')\n",
        "plt.imshow(show_img, cmap='gray');"
      ],
      "execution_count": 37,
      "outputs": [
        {
          "output_type": "stream",
          "text": [
            "Label 4\n"
          ],
          "name": "stdout"
        },
        {
          "output_type": "display_data",
          "data": {
            "image/png": "[encoded data removed]",
            "text/plain": [
              "<Figure size 432x288 with 1 Axes>"
            ]
          },
          "metadata": {
            "tags": []
          }
        }
      ]
    },
    {
      "cell_type": "code",
      "metadata": {
        "id": "9PEgrfsLlIJD",
        "colab_type": "code",
        "colab": {
          "base_uri": "https://localhost:8080/",
          "height": 300
        },
        "outputId": "96489ea1-2fe2-4dfe-e35f-9cb019034991"
      },
      "source": [
        "# Test sample: Noisy\n",
        "sample_num = 10\n",
        "raw_img = test_dataset[sample_num][0]\n",
        "noisy_image = dropout(torch.ones(raw_img.shape)) * raw_img\n",
        "show_img = noisy_image.numpy().reshape(28, 28)\n",
        "label = test_dataset[sample_num][1]\n",
        "print(f'Label {label}')\n",
        "plt.imshow(show_img, cmap='gray');"
      ],
      "execution_count": 21,
      "outputs": [
        {
          "output_type": "stream",
          "text": [
            "Label 4\n"
          ],
          "name": "stdout"
        },
        {
          "output_type": "display_data",
          "data": {
            "image/png": "[encoded data removed]",
            "text/plain": [
              "<Figure size 432x288 with 1 Axes>"
            ]
          },
          "metadata": {
            "tags": []
          }
        }
      ]
    },
    {
      "cell_type": "code",
      "metadata": {
        "id": "9hLybwMVlIPi",
        "colab_type": "code",
        "colab": {
          "base_uri": "https://localhost:8080/",
          "height": 300
        },
        "outputId": "2285e9ba-ae80-4cc2-848a-bd4eab7f20e1"
      },
      "source": [
        "# Test sample: Noisy\n",
        "sample_num = 10\n",
        "raw_img = test_dataset[sample_num][0]\n",
        "noisy_image = dropout(torch.ones(raw_img.shape)) * raw_img\n",
        "show_img = noisy_image.numpy().reshape(28, 28)\n",
        "label = test_dataset[sample_num][1]\n",
        "print(f'Label {label}')\n",
        "plt.imshow(show_img, cmap='gray');"
      ],
      "execution_count": 38,
      "outputs": [
        {
          "output_type": "stream",
          "text": [
            "Label 4\n"
          ],
          "name": "stdout"
        },
        {
          "output_type": "display_data",
          "data": {
            "image/png": "[encoded data removed]",
            "text/plain": [
              "<Figure size 432x288 with 1 Axes>"
            ]
          },
          "metadata": {
            "tags": []
          }
        }
      ]
    },
    {
      "cell_type": "code",
      "metadata": {
        "id": "o_38rex4lINN",
        "colab_type": "code",
        "colab": {}
      },
      "source": [
        ""
      ],
      "execution_count": 0,
      "outputs": []
    },
    {
      "cell_type": "code",
      "metadata": {
        "id": "DemiKtqakM2b",
        "colab_type": "code",
        "colab": {}
      },
      "source": [
        ""
      ],
      "execution_count": 0,
      "outputs": []
    }
  ]
}