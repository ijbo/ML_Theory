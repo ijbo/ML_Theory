{
 "cells": [
  {
   "cell_type": "markdown",
   "metadata": {},
   "source": [
    "# Feedforward Neural Network (FNN) to Autoencoders (AEs)"
   ]
  },
  {
   "cell_type": "markdown",
   "metadata": {},
   "source": [
    "Autoencoder is a form of unsupervised learning.\n",
    "    1. This is a big deviation from what we have been doing: classification and regression which are under supervised learning.\n",
    "    2. There are no labels required, inputs are used as labels.\n",
    "        - This is a bit mind-boggling for some, but there're many conrete use cases as you'll soon realize.\n",
    "        - Just a quick preview of use cases we will be covering:\n",
    "            - Denoising overcomplete AEs: recreate images without the random noises originally injected.\n",
    "            - Undercomplete AEs for anomaly detection: use AEs for credit card fraud detection via anomaly detection.\n",
    "            - Variational AEs for creating synthetic faces: with a convolutional VAEs, we can make fake faces.\n",
    "An autoencoder's purpose is to learn an approximation of the identity function (mapping x  to ^x).\n",
    "\n",
    "Essentially we are trying to learn a function that can take our input x and recreate it ^x.\n",
    "\n",
    "- Technically we can do an exact recreation of our in-sample input if we use a very wide and deep neural network.\n",
    "\n",
    "![Image](Autoencoder_0.png)"
   ]
  },
  {
   "cell_type": "markdown",
   "metadata": {},
   "source": [
    "## Undercomplete and Overcomplete Autoencoders\n",
    "\n",
    "1. When we highlighted some use cases, did you notice how we mentioned undercomplete and autocomplete AEs?\n",
    "2. The only difference between the two is in the encoding output's size.\n",
    "    - In the diagram above, this refers to the encoding output's size after our first affine function (yellow box) and non-linear function (pink box).\n",
    "3. Undercomplete AEs: output smaller than input\n",
    "    - This is when our encoding output's dimension is smaller than our input's dimension.\n",
    "    - Essentially we reduced the dimension of our data (dimensionality reduction) with an undercomplete AE\n",
    "4. Overcomplete AEs: output larger than input\n",
    "    - This is when our encoding output's dimension is larger than our input's dimension\n",
    "    - Essentially we increased the dimension of our data with an overcomplete AE"
   ]
  },
  {
   "cell_type": "markdown",
   "metadata": {},
   "source": [
    "## Fully-connected and Convolutional Autoencoders\n",
    "\n",
    "1. Another important point is that, in our diagram we've used the example of our Feedforward Neural Networks (FNN) where we use fully-connected layers.\n",
    "    - This is called Fully-connected AE.\n",
    "2. However, we can easily swap those fully-connected layers with convolutional layers.\n",
    "    - This is called Convolutional AE."
   ]
  },
  {
   "cell_type": "markdown",
   "metadata": {},
   "source": [
    "# Autoencoders Series"
   ]
  },
  {
   "cell_type": "markdown",
   "metadata": {},
   "source": [
    "## Series of autoencoders in this order\n",
    "\n",
    "1. Fully-connected Overcomplete Autoencoder (AEs): **Denoising Images**\n",
    "2. Fully-connected Undercomplete Autoencoder (AEs): **Credit Card Fraud Detection**\n",
    "3. Convolutional Overcomplete Variational Autoencoder (VAEs): **Generate Fake Human Faces**\n",
    "4. Convolutional Overcomplete Adversarial Autoencoder (AAEs): **Generate Fake Human Faces**\n",
    "5. Generative Adversarial Networks (GANs): **Generate Better Fake Human Faces**"
   ]
  },
  {
   "cell_type": "code",
   "execution_count": null,
   "metadata": {},
   "outputs": [],
   "source": []
  }
 ],
 "metadata": {
  "hide_input": false,
  "kernelspec": {
   "display_name": "Python 3",
   "language": "python",
   "name": "python3"
  },
  "language_info": {
   "codemirror_mode": {
    "name": "ipython",
    "version": 3
   },
   "file_extension": ".py",
   "mimetype": "text/x-python",
   "name": "python",
   "nbconvert_exporter": "python",
   "pygments_lexer": "ipython3",
   "version": "3.7.3"
  },
  "toc": {
   "base_numbering": 1,
   "nav_menu": {},
   "number_sections": true,
   "sideBar": true,
   "skip_h1_title": false,
   "title_cell": "Table of Contents",
   "title_sidebar": "Contents",
   "toc_cell": false,
   "toc_position": {},
   "toc_section_display": true,
   "toc_window_display": false
  },
  "varInspector": {
   "cols": {
    "lenName": 16,
    "lenType": 16,
    "lenVar": 40
   },
   "kernels_config": {
    "python": {
     "delete_cmd_postfix": "",
     "delete_cmd_prefix": "del ",
     "library": "var_list.py",
     "varRefreshCmd": "print(var_dic_list())"
    },
    "r": {
     "delete_cmd_postfix": ") ",
     "delete_cmd_prefix": "rm(",
     "library": "var_list.r",
     "varRefreshCmd": "cat(var_dic_list()) "
    }
   },
   "types_to_exclude": [
    "module",
    "function",
    "builtin_function_or_method",
    "instance",
    "_Feature"
   ],
   "window_display": false
  }
 },
 "nbformat": 4,
 "nbformat_minor": 2
}
