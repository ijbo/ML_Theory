{
 "cells": [
  {
   "cell_type": "code",
   "execution_count": null,
   "metadata": {
    "colab": {
     "base_uri": "https://localhost:8080/",
     "height": 122
    },
    "colab_type": "code",
    "id": "J-SlsTObcdCW",
    "outputId": "0420a588-1425-415b-eac8-2836b726bdad"
   },
   "outputs": [
    {
     "name": "stdout",
     "output_type": "stream",
     "text": [
      "Go to this URL in a browser: https://accounts.google.com/o/oauth2/auth?client_id=947318989803-6bn6qk8qdgf4n4g3pfee6491hc0brc4i.apps.googleusercontent.com&redirect_uri=urn%3aietf%3awg%3aoauth%3a2.0%3aoob&response_type=code&scope=email%20https%3a%2f%2fwww.googleapis.com%2fauth%2fdocs.test%20https%3a%2f%2fwww.googleapis.com%2fauth%2fdrive%20https%3a%2f%2fwww.googleapis.com%2fauth%2fdrive.photos.readonly%20https%3a%2f%2fwww.googleapis.com%2fauth%2fpeopleapi.readonly\n",
      "\n",
      "Enter your authorization code:\n",
      "··········\n",
      "Mounted at /content/drive\n"
     ]
    }
   ],
   "source": [
    "from google.colab import drive\n",
    "drive.mount('/content/drive')"
   ]
  },
  {
   "cell_type": "markdown",
   "metadata": {
    "colab_type": "text",
    "id": "qD4RCAOrc2au"
   },
   "source": [
    "Steps :\n",
    "1. Load Dataset\n",
    "2. MakeData set iterable\n",
    "3. Create a Model class\n",
    "4. Instantiate a Model Class\n",
    "5. Instantiate a Loss class\n",
    "6. Instantiate a Optimizer Class\n",
    "7. Train Model"
   ]
  },
  {
   "cell_type": "code",
   "execution_count": null,
   "metadata": {
    "colab": {},
    "colab_type": "code",
    "id": "ckwevXaRcnki"
   },
   "outputs": [],
   "source": [
    "# Step 1 :  Load the MNIST Train Dataset\n",
    "\n",
    "import torch\n",
    "import torch.nn as nn\n",
    "from torch.autograd import Variable\n",
    "import torchvision.datasets as dsets\n",
    "import torchvision.transforms as transforms"
   ]
  },
  {
   "cell_type": "code",
   "execution_count": null,
   "metadata": {
    "colab": {
     "base_uri": "https://localhost:8080/",
     "height": 255
    },
    "colab_type": "code",
    "id": "kBYwAG50cn0H",
    "outputId": "d8644ce2-7956-41f6-db21-cda515d6ec6c"
   },
   "outputs": [
    {
     "name": "stderr",
     "output_type": "stream",
     "text": [
      "  0%|          | 0/9912422 [00:00<?, ?it/s]"
     ]
    },
    {
     "name": "stdout",
     "output_type": "stream",
     "text": [
      "Downloading http://yann.lecun.com/exdb/mnist/train-images-idx3-ubyte.gz to ./data/MNIST/raw/train-images-idx3-ubyte.gz\n"
     ]
    },
    {
     "name": "stderr",
     "output_type": "stream",
     "text": [
      "9920512it [00:00, 20734273.22it/s]                            \n"
     ]
    },
    {
     "name": "stdout",
     "output_type": "stream",
     "text": [
      "Extracting ./data/MNIST/raw/train-images-idx3-ubyte.gz to ./data/MNIST/raw\n"
     ]
    },
    {
     "name": "stderr",
     "output_type": "stream",
     "text": [
      "32768it [00:00, 299203.77it/s]                           \n",
      "0it [00:00, ?it/s]"
     ]
    },
    {
     "name": "stdout",
     "output_type": "stream",
     "text": [
      "Downloading http://yann.lecun.com/exdb/mnist/train-labels-idx1-ubyte.gz to ./data/MNIST/raw/train-labels-idx1-ubyte.gz\n",
      "Extracting ./data/MNIST/raw/train-labels-idx1-ubyte.gz to ./data/MNIST/raw\n",
      "Downloading http://yann.lecun.com/exdb/mnist/t10k-images-idx3-ubyte.gz to ./data/MNIST/raw/t10k-images-idx3-ubyte.gz\n"
     ]
    },
    {
     "name": "stderr",
     "output_type": "stream",
     "text": [
      "1654784it [00:00, 5631034.85it/s]                           \n",
      "8192it [00:00, 121039.97it/s]\n"
     ]
    },
    {
     "name": "stdout",
     "output_type": "stream",
     "text": [
      "Extracting ./data/MNIST/raw/t10k-images-idx3-ubyte.gz to ./data/MNIST/raw\n",
      "Downloading http://yann.lecun.com/exdb/mnist/t10k-labels-idx1-ubyte.gz to ./data/MNIST/raw/t10k-labels-idx1-ubyte.gz\n",
      "Extracting ./data/MNIST/raw/t10k-labels-idx1-ubyte.gz to ./data/MNIST/raw\n",
      "Processing...\n",
      "Done!\n"
     ]
    }
   ],
   "source": [
    "train_dataset = dsets.MNIST(root=\"./data\",\n",
    "                            train=True,\n",
    "                            transform=transforms.ToTensor(),\n",
    "                            download=True\n",
    "                            )\n",
    "\n",
    "test_dataset = dsets.MNIST(root=\"./data\",\n",
    "                           train=False,\n",
    "                           transform=transforms.ToTensor())"
   ]
  },
  {
   "cell_type": "code",
   "execution_count": null,
   "metadata": {
    "colab": {},
    "colab_type": "code",
    "id": "Z-wetwmMcn2b"
   },
   "outputs": [],
   "source": [
    "#Step 2 :  Make dataset Iterable \n",
    "batch_size=100\n",
    "n_iters = 3000\n",
    "n_epochs = n_iters / (len(train_dataset)/batch_size)\n",
    "n_epochs = int(n_epochs)"
   ]
  },
  {
   "cell_type": "code",
   "execution_count": null,
   "metadata": {
    "colab": {},
    "colab_type": "code",
    "id": "k7mHW6_ofjCx"
   },
   "outputs": [],
   "source": [
    "train_dataloader = torch.utils.data.DataLoader(dataset=train_dataset,\n",
    "                                               batch_size=batch_size,\n",
    "                                               shuffle=True)\n",
    "\n",
    "test_dataloader = torch.utils.data.DataLoader(dataset=test_dataset,\n",
    "                                              batch_size=batch_size,\n",
    "                                              shuffle=False)"
   ]
  },
  {
   "cell_type": "code",
   "execution_count": null,
   "metadata": {
    "colab": {},
    "colab_type": "code",
    "id": "Y9YOBXZHgJoy"
   },
   "outputs": [],
   "source": [
    "# Step 3 : Create a Model Class \n",
    "\n",
    "class FeedforwardNNModelSIG(nn.Module):\n",
    "  def __init__(self,input_dim,hidden_dim,output_dim):\n",
    "      super().__init__()\n",
    "      \n",
    "      #Linear Layar\n",
    "      self.fc1=nn.Linear(input_dim,hidden_dim)\n",
    "\n",
    "      #Non Linear Layaer \n",
    "      self.sigmoid=nn.Sigmoid()\n",
    "\n",
    "      #Linear Layar(readout layer)\n",
    "      self.fc2=nn.Linear(hidden_dim,output_dim)\n",
    "\n",
    "  def forward(self,x):\n",
    "      # Linear\n",
    "      out = self.fc1(x)\n",
    "      # Non-Linear\n",
    "      out = self.sigmoid(out)\n",
    "      # Linear (readout layer)\n",
    "      out = self.fc2(out)\n",
    "\n",
    "      return out\n"
   ]
  },
  {
   "cell_type": "code",
   "execution_count": null,
   "metadata": {
    "colab": {},
    "colab_type": "code",
    "id": "yxutrHSkmFma"
   },
   "outputs": [],
   "source": [
    "# Step 4 : Intantiate Model Class\n",
    "\n",
    "input_dim=28*28\n",
    "hidden_dim=50\n",
    "output_dim=10\n",
    "model = FeedforwardNNModelSIG(input_dim,hidden_dim,output_dim)"
   ]
  },
  {
   "cell_type": "code",
   "execution_count": null,
   "metadata": {
    "colab": {},
    "colab_type": "code",
    "id": "Z7YxkG3bmF0N"
   },
   "outputs": [],
   "source": [
    "# Step 5 : Intantiate loss class\n",
    "criterion = nn.CrossEntropyLoss()"
   ]
  },
  {
   "cell_type": "code",
   "execution_count": null,
   "metadata": {
    "colab": {},
    "colab_type": "code",
    "id": "umo9gAtCmF3b"
   },
   "outputs": [],
   "source": [
    "# Step 6 : Intantiate optimizer\n",
    "learning_rate = 0.1\n",
    "optimizer = torch.optim.SGD(model.parameters(),lr=learning_rate)"
   ]
  },
  {
   "cell_type": "code",
   "execution_count": null,
   "metadata": {
    "colab": {
     "base_uri": "https://localhost:8080/",
     "height": 119
    },
    "colab_type": "code",
    "id": "ShPsQbHbmF6B",
    "outputId": "8e9a2259-7235-42c6-86fe-fd2607f55fd7"
   },
   "outputs": [
    {
     "name": "stdout",
     "output_type": "stream",
     "text": [
      "Iteration: 500 , Loss:0.6747167706489563 , Accuracy:85.06999969482422\n",
      "Iteration: 1000 , Loss:0.4159547686576843 , Accuracy:89.49000549316406\n",
      "Iteration: 1500 , Loss:0.30652761459350586 , Accuracy:90.37000274658203\n",
      "Iteration: 2000 , Loss:0.4730711877346039 , Accuracy:91.08000183105469\n",
      "Iteration: 2500 , Loss:0.1980995535850525 , Accuracy:91.5199966430664\n",
      "Iteration: 3000 , Loss:0.2555803060531616 , Accuracy:91.97999572753906\n"
     ]
    }
   ],
   "source": [
    "# Step 7 : Train the Model\n",
    "##1 Convert inputs/labels to Variables\n",
    "##2 Clear the gradients \n",
    "##3 Get output given input\n",
    "##4 Get Loss\n",
    "##5 Get gradients wrt parameters\n",
    "##6 Update paramters using Gradients\n",
    "##7 Repeat\n",
    "\n",
    "iter=0\n",
    "for epoch in range(n_epochs):\n",
    "  for i,(images, labels) in enumerate(train_dataloader):\n",
    "\n",
    "      ##1 Convert inputs/labels to Variable\n",
    "      images = Variable(images.view(-1,28*28))\n",
    "      labels = Variable(labels)\n",
    "\n",
    "      ##2 Clear the gradients \n",
    "      optimizer.zero_grad()\n",
    "\n",
    "      ##3 Get output given input\n",
    "      outputs = model(images)\n",
    "\n",
    "      ##4 Get Loss\n",
    "      loss = criterion(outputs,labels)\n",
    "\n",
    "      ##5 Get gradients wrt parameters\n",
    "      loss.backward()\n",
    "    \n",
    "      ##6 Update paramters using Gradients\n",
    "      optimizer.step()\n",
    "\n",
    "      ##7 Repeat\n",
    "\n",
    "      iter +=1\n",
    "      if iter % 500 == 0 :\n",
    "        correct = 0.\n",
    "        total = 0.\n",
    "      # Iter thorough test dataset\n",
    "        for images,labels in test_dataloader:\n",
    "          images = Variable(images.view(-1,28*28))\n",
    "          labels = Variable(labels)\n",
    "\n",
    "          outputs = model(images)\n",
    "          # Get the max value of the prediction\n",
    "          _,predicted=torch.max(outputs.data,1)\n",
    "          # number of labels \n",
    "          total += labels.size(0)\n",
    "          # Total correct predictions\n",
    "          correct += (predicted==labels).sum()\n",
    "\n",
    "        accuracy = 100*(correct/total)\n",
    "        print(\"Iteration: {} , Loss:{} , Accuracy:{}\".format(iter,loss.data,accuracy))"
   ]
  },
  {
   "cell_type": "code",
   "execution_count": null,
   "metadata": {
    "colab": {
     "base_uri": "https://localhost:8080/",
     "height": 204
    },
    "colab_type": "code",
    "id": "1Wjd9jJR79WC",
    "outputId": "5663a234-61f7-4938-843e-47642faaa91b"
   },
   "outputs": [
    {
     "name": "stdout",
     "output_type": "stream",
     "text": [
      "# <NllLossBackward object at 0x7f61cbdcf5f8>\n",
      "## <LogSoftmaxBackward object at 0x7f61cbdc8a90>\n",
      "### <AddmmBackward object at 0x7f61cbdcf748>\n",
      "#### <AccumulateGrad object at 0x7f61cbdcf7f0>\n",
      "#### <SigmoidBackward object at 0x7f61cbdcf828>\n",
      "##### <AddmmBackward object at 0x7f61cbdcf940>\n",
      "###### <AccumulateGrad object at 0x7f61cbdcf9e8>\n",
      "###### <TBackward object at 0x7f61cbdcfa20>\n",
      "####### <AccumulateGrad object at 0x7f61cbdcfb00>\n",
      "#### <TBackward object at 0x7f61cbdcf860>\n",
      "##### <AccumulateGrad object at 0x7f61cbdcf978>\n"
     ]
    }
   ],
   "source": [
    "def print_graph(g, level=0):\n",
    "    if g == None: return\n",
    "    print('#'*level*1, g)\n",
    "    for subg in g.next_functions:\n",
    "        #print(subg)\n",
    "        print_graph(subg[0], level+1)\n",
    "\n",
    "print_graph(loss.grad_fn, 1)"
   ]
  },
  {
   "cell_type": "code",
   "execution_count": null,
   "metadata": {
    "colab": {},
    "colab_type": "code",
    "id": "OrRHzip5XEeo"
   },
   "outputs": [],
   "source": [
    "# Step 3 : Create a Model Class \n",
    "\n",
    "class FeedforwardNNModelTANH(nn.Module):\n",
    "  def __init__(self,input_dim,hidden_dim,output_dim):\n",
    "      super().__init__()\n",
    "      \n",
    "      #Linear Layar\n",
    "      self.fc1=nn.Linear(input_dim,hidden_dim)\n",
    "\n",
    "      #Non Linear Layaer \n",
    "      self.tanh=nn.Tanh()\n",
    "\n",
    "      #Linear Layar(readout layer)\n",
    "      self.fc2=nn.Linear(hidden_dim,output_dim)\n",
    "\n",
    "  def forward(self,x):\n",
    "      # Linear\n",
    "      out = self.fc1(x)\n",
    "      # Non-Linear\n",
    "      out = self.tanh(out)\n",
    "      # Linear (readout layer)\n",
    "      out = self.fc2(out)\n",
    "\n",
    "      return out"
   ]
  },
  {
   "cell_type": "code",
   "execution_count": null,
   "metadata": {
    "colab": {},
    "colab_type": "code",
    "id": "Cx7aDostXTDU"
   },
   "outputs": [],
   "source": [
    "# Step 4 : Intantiate Model Class\n",
    "\n",
    "input_dim=28*28\n",
    "hidden_dim=100\n",
    "output_dim=10\n",
    "model = FeedforwardNNModelTANH(input_dim,hidden_dim,output_dim)"
   ]
  },
  {
   "cell_type": "code",
   "execution_count": null,
   "metadata": {
    "colab": {},
    "colab_type": "code",
    "id": "_Z4p0VAyXTKc"
   },
   "outputs": [],
   "source": [
    "# Step 5 : Intantiate loss class\n",
    "criterion = nn.CrossEntropyLoss()"
   ]
  },
  {
   "cell_type": "code",
   "execution_count": null,
   "metadata": {
    "colab": {},
    "colab_type": "code",
    "id": "DW2b3SxvXTNp"
   },
   "outputs": [],
   "source": [
    "# Step 6 : Intantiate optimizer\n",
    "learning_rate = 0.1\n",
    "optimizer = torch.optim.SGD(model.parameters(),lr=learning_rate)"
   ]
  },
  {
   "cell_type": "code",
   "execution_count": null,
   "metadata": {
    "colab": {
     "base_uri": "https://localhost:8080/",
     "height": 119
    },
    "colab_type": "code",
    "id": "Rh_1dGlUXTQ2",
    "outputId": "97b301e4-d165-4695-fefe-58f41b32b7aa"
   },
   "outputs": [
    {
     "name": "stdout",
     "output_type": "stream",
     "text": [
      "Iteration: 500 , Loss:0.336751788854599 , Accuracy:91.08000183105469\n",
      "Iteration: 1000 , Loss:0.3685636520385742 , Accuracy:92.62999725341797\n",
      "Iteration: 1500 , Loss:0.32898658514022827 , Accuracy:93.23999786376953\n",
      "Iteration: 2000 , Loss:0.25302228331565857 , Accuracy:94.0\n",
      "Iteration: 2500 , Loss:0.20827388763427734 , Accuracy:94.77999877929688\n",
      "Iteration: 3000 , Loss:0.2247171849012375 , Accuracy:95.18000030517578\n"
     ]
    }
   ],
   "source": [
    "# Step 7 : Train the Model\n",
    "##1 Convert inputs/labels to Variables\n",
    "##2 Clear the gradients \n",
    "##3 Get output given input\n",
    "##4 Get Loss\n",
    "##5 Get gradients wrt parameters\n",
    "##6 Update paramters using Gradients\n",
    "##7 Repeat\n",
    "\n",
    "iter=0\n",
    "for epoch in range(n_epochs):\n",
    "  for i,(images, labels) in enumerate(train_dataloader):\n",
    "\n",
    "      ##1 Convert inputs/labels to Variable\n",
    "      images = Variable(images.view(-1,28*28))\n",
    "      labels = Variable(labels)\n",
    "\n",
    "      ##2 Clear the gradients \n",
    "      optimizer.zero_grad()\n",
    "\n",
    "      ##3 Get output given input\n",
    "      outputs = model(images)\n",
    "\n",
    "      ##4 Get Loss\n",
    "      loss = criterion(outputs,labels)\n",
    "\n",
    "      ##5 Get gradients wrt parameters\n",
    "      loss.backward()\n",
    "    \n",
    "      ##6 Update paramters using Gradients\n",
    "      optimizer.step()\n",
    "\n",
    "      ##7 Repeat\n",
    "\n",
    "      iter +=1\n",
    "      if iter % 500 == 0 :\n",
    "        correct = 0.\n",
    "        total = 0.\n",
    "      # Iter thorough test dataset\n",
    "        for images,labels in test_dataloader:\n",
    "          images = Variable(images.view(-1,28*28))\n",
    "          labels = Variable(labels)\n",
    "\n",
    "          outputs = model(images)\n",
    "          # Get the max value of the prediction\n",
    "          _,predicted=torch.max(outputs.data,1)\n",
    "          # number of labels \n",
    "          total += labels.size(0)\n",
    "          # Total correct predictions\n",
    "          correct += (predicted==labels).sum()\n",
    "\n",
    "        accuracy = 100*(correct/total)\n",
    "        print(\"Iteration: {} , Loss:{} , Accuracy:{}\".format(iter,loss.data,accuracy))"
   ]
  },
  {
   "cell_type": "code",
   "execution_count": null,
   "metadata": {
    "colab": {
     "base_uri": "https://localhost:8080/",
     "height": 204
    },
    "colab_type": "code",
    "id": "e7U8GdRs8ue7",
    "outputId": "7713b62f-2443-4281-9733-077285d2baf8"
   },
   "outputs": [
    {
     "name": "stdout",
     "output_type": "stream",
     "text": [
      "# <NllLossBackward object at 0x7f61cbdc8a20>\n",
      "## <LogSoftmaxBackward object at 0x7f61cbdc87b8>\n",
      "### <AddmmBackward object at 0x7f61cbdc8c88>\n",
      "#### <AccumulateGrad object at 0x7f61cbdc80f0>\n",
      "#### <TanhBackward object at 0x7f61cbdc8198>\n",
      "##### <AddmmBackward object at 0x7f61cbdc80b8>\n",
      "###### <AccumulateGrad object at 0x7f61cbdc8278>\n",
      "###### <TBackward object at 0x7f61cbdc82b0>\n",
      "####### <AccumulateGrad object at 0x7f61cbdc8208>\n",
      "#### <TBackward object at 0x7f61cbdc8080>\n",
      "##### <AccumulateGrad object at 0x7f61cbdc81d0>\n"
     ]
    }
   ],
   "source": [
    "print_graph(loss.grad_fn, 1)"
   ]
  },
  {
   "cell_type": "code",
   "execution_count": null,
   "metadata": {
    "colab": {},
    "colab_type": "code",
    "id": "_3vxBC7lYk1V"
   },
   "outputs": [],
   "source": [
    "# Step 3 : Create a Model Class \n",
    "\n",
    "class FeedforwardNNModelRelu(nn.Module):\n",
    "  def __init__(self,input_dim,hidden_dim,output_dim):\n",
    "      super().__init__()\n",
    "      \n",
    "      #Linear Layar\n",
    "      self.fc1=nn.Linear(input_dim,hidden_dim)\n",
    "\n",
    "      #Non Linear Layaer \n",
    "      self.relu=nn.ReLU()\n",
    "\n",
    "      #Linear Layar(readout layer)\n",
    "      self.fc2=nn.Linear(hidden_dim,output_dim)\n",
    "\n",
    "  def forward(self,x):\n",
    "      # Linear\n",
    "      out = self.fc1(x)\n",
    "      # Non-Linear\n",
    "      out = self.relu(out)\n",
    "      # Linear (readout layer)\n",
    "      out = self.fc2(out)\n",
    "\n",
    "      return out"
   ]
  },
  {
   "cell_type": "code",
   "execution_count": null,
   "metadata": {
    "colab": {},
    "colab_type": "code",
    "id": "UBlc99ZMYk69"
   },
   "outputs": [],
   "source": [
    "# Step 4 : Intantiate Model Class\n",
    "\n",
    "input_dim=28*28\n",
    "hidden_dim=100\n",
    "output_dim=10\n",
    "model = FeedforwardNNModelRelu(input_dim,hidden_dim,output_dim)"
   ]
  },
  {
   "cell_type": "code",
   "execution_count": null,
   "metadata": {
    "colab": {},
    "colab_type": "code",
    "id": "bkX0JOsfYlAn"
   },
   "outputs": [],
   "source": [
    "# Step 5 : Intantiate loss class\n",
    "criterion = nn.CrossEntropyLoss()"
   ]
  },
  {
   "cell_type": "code",
   "execution_count": null,
   "metadata": {
    "colab": {},
    "colab_type": "code",
    "id": "BL40t1wWYlGp"
   },
   "outputs": [],
   "source": [
    "# Step 6 : Intantiate optimizer\n",
    "learning_rate = 0.1\n",
    "optimizer = torch.optim.SGD(model.parameters(),lr=learning_rate)"
   ]
  },
  {
   "cell_type": "code",
   "execution_count": null,
   "metadata": {
    "colab": {
     "base_uri": "https://localhost:8080/",
     "height": 119
    },
    "colab_type": "code",
    "id": "Xr55JPCkYk-Y",
    "outputId": "1090136e-d3aa-4af5-af9e-6abd418afec3"
   },
   "outputs": [
    {
     "name": "stdout",
     "output_type": "stream",
     "text": [
      "Iteration: 500 , Loss:0.27933087944984436 , Accuracy:91.70999908447266\n",
      "Iteration: 1000 , Loss:0.4297708570957184 , Accuracy:93.19000244140625\n",
      "Iteration: 1500 , Loss:0.2575586140155792 , Accuracy:93.95999908447266\n",
      "Iteration: 2000 , Loss:0.2052202969789505 , Accuracy:94.76000213623047\n",
      "Iteration: 2500 , Loss:0.25132447481155396 , Accuracy:95.42000579833984\n",
      "Iteration: 3000 , Loss:0.1009683907032013 , Accuracy:95.63999938964844\n"
     ]
    }
   ],
   "source": [
    "# Step 7 : Train the Model\n",
    "##1 Convert inputs/labels to Variables\n",
    "##2 Clear the gradients \n",
    "##3 Get output given input\n",
    "##4 Get Loss\n",
    "##5 Get gradients wrt parameters\n",
    "##6 Update paramters using Gradients\n",
    "##7 Repeat\n",
    "\n",
    "iter=0\n",
    "for epoch in range(n_epochs):\n",
    "  for i,(images, labels) in enumerate(train_dataloader):\n",
    "\n",
    "      ##1 Convert inputs/labels to Variable\n",
    "      images = Variable(images.view(-1,28*28))\n",
    "      labels = Variable(labels)\n",
    "\n",
    "      ##2 Clear the gradients \n",
    "      optimizer.zero_grad()\n",
    "\n",
    "      ##3 Get output given input\n",
    "      outputs = model(images)\n",
    "\n",
    "      ##4 Get Loss\n",
    "      loss = criterion(outputs,labels)\n",
    "\n",
    "      ##5 Get gradients wrt parameters\n",
    "      loss.backward()\n",
    "    \n",
    "      ##6 Update paramters using Gradients\n",
    "      optimizer.step()\n",
    "\n",
    "      ##7 Repeat\n",
    "\n",
    "      iter +=1\n",
    "      if iter % 500 == 0 :\n",
    "        correct = 0.\n",
    "        total = 0.\n",
    "      # Iter thorough test dataset\n",
    "        for images,labels in test_dataloader:\n",
    "          images = Variable(images.view(-1,28*28))\n",
    "          labels = Variable(labels)\n",
    "\n",
    "          outputs = model(images)\n",
    "          # Get the max value of the prediction\n",
    "          _,predicted=torch.max(outputs.data,1)\n",
    "          # number of labels \n",
    "          total += labels.size(0)\n",
    "          # Total correct predictions\n",
    "          correct += (predicted==labels).sum()\n",
    "\n",
    "        accuracy = 100*(correct/total)\n",
    "        print(\"Iteration: {} , Loss:{} , Accuracy:{}\".format(iter,loss.data,accuracy))"
   ]
  },
  {
   "cell_type": "code",
   "execution_count": null,
   "metadata": {
    "colab": {},
    "colab_type": "code",
    "id": "tcwjJ-RPZljx"
   },
   "outputs": [],
   "source": [
    "# Step 3 : Create a Model Class multiple hidden\n",
    "\n",
    "class FeedforwardNNModelMRelu(nn.Module):\n",
    "  def __init__(self,input_dim,hidden_dim,output_dim):\n",
    "      super().__init__()\n",
    "      \n",
    "      #Linear Layer\n",
    "      self.fc1=nn.Linear(input_dim,hidden_dim)\n",
    "\n",
    "      #Non Linear Layer \n",
    "      self.relu1=nn.ReLU()\n",
    "\n",
    "      #Linear Layer(readout layer)\n",
    "      self.fc2=nn.Linear(hidden_dim,hidden_dim)\n",
    "\n",
    "      #Non Linear Layer \n",
    "      self.relu2=nn.ReLU()\n",
    "\n",
    "      #Linear Layer(readout layer)\n",
    "      self.fc3=nn.Linear(hidden_dim,hidden_dim)\n",
    "\n",
    "      #Non Linear Layer \n",
    "      self.relu3=nn.ReLU()\n",
    "\n",
    "      #Linear Layer\n",
    "      self.fc4=nn.Linear(hidden_dim,hidden_dim)\n",
    "\n",
    "      #Non Linear Layer \n",
    "      self.relu4=nn.ReLU()\n",
    "\n",
    "      #Linear Layer(readout layer)\n",
    "      self.fc5=nn.Linear(hidden_dim,hidden_dim)\n",
    "\n",
    "      #Non Linear Layer \n",
    "      self.relu5=nn.ReLU()\n",
    "\n",
    "      #Linear Layer(readout layer)\n",
    "      self.fc6=nn.Linear(hidden_dim,output_dim)\n",
    "\n",
    "\n",
    "\n",
    "\n",
    "  def forward(self,x):\n",
    "\n",
    "      out = self.fc1(x)\n",
    "      out = self.relu1(out)\n",
    "      \n",
    "      out = self.fc2(out)\n",
    "      out = self.relu2(out)\n",
    "      \n",
    "      out = self.fc3(out)\n",
    "      out = self.relu3(out)\n",
    "\n",
    "      out = self.fc4(out)\n",
    "      out = self.relu4(out)\n",
    "\n",
    "      out = self.fc5(out)\n",
    "      out = self.relu5(out)\n",
    "      \n",
    "      # Linear(readout layer)\n",
    "      out = self.fc6(out)\n",
    "\n",
    "      return out"
   ]
  },
  {
   "cell_type": "code",
   "execution_count": null,
   "metadata": {
    "colab": {},
    "colab_type": "code",
    "id": "wy15KP_2ZlwA"
   },
   "outputs": [],
   "source": [
    "# Step 4 : Intantiate Model Class\n",
    "\n",
    "input_dim=28*28\n",
    "hidden_dim=1000\n",
    "output_dim=10\n",
    "model = FeedforwardNNModelMRelu(input_dim,hidden_dim,output_dim)"
   ]
  },
  {
   "cell_type": "code",
   "execution_count": null,
   "metadata": {
    "colab": {},
    "colab_type": "code",
    "id": "4BX34XjGZl0P"
   },
   "outputs": [],
   "source": [
    "# Step 5 : Intantiate loss class\n",
    "criterion = nn.CrossEntropyLoss()"
   ]
  },
  {
   "cell_type": "code",
   "execution_count": null,
   "metadata": {
    "colab": {},
    "colab_type": "code",
    "id": "33RcjYN1Zl3b"
   },
   "outputs": [],
   "source": [
    "# Step 6 : Intantiate optimizer\n",
    "learning_rate = 0.1\n",
    "optimizer = torch.optim.SGD(model.parameters(),lr=learning_rate)"
   ]
  },
  {
   "cell_type": "code",
   "execution_count": null,
   "metadata": {
    "colab": {
     "base_uri": "https://localhost:8080/",
     "height": 119
    },
    "colab_type": "code",
    "id": "BRXZ9BT8bD9P",
    "outputId": "213c84bf-4e46-452f-c885-0317b8d096a5"
   },
   "outputs": [
    {
     "name": "stdout",
     "output_type": "stream",
     "text": [
      "Iteration: 500 , Loss:0.5044265985488892 , Accuracy:86.80999755859375\n",
      "Iteration: 1000 , Loss:0.12980115413665771 , Accuracy:94.22000122070312\n",
      "Iteration: 1500 , Loss:0.08640319108963013 , Accuracy:96.21000671386719\n",
      "Iteration: 2000 , Loss:0.05886375904083252 , Accuracy:96.13999938964844\n",
      "Iteration: 2500 , Loss:0.07721692323684692 , Accuracy:97.25\n",
      "Iteration: 3000 , Loss:0.13240040838718414 , Accuracy:97.40999603271484\n"
     ]
    }
   ],
   "source": [
    "# Step 7 : Train the Model\n",
    "##1 Convert inputs/labels to Variables\n",
    "##2 Clear the gradients \n",
    "##3 Get output given input\n",
    "##4 Get Loss\n",
    "##5 Get gradients wrt parameters\n",
    "##6 Update paramters using Gradients\n",
    "##7 Repeat\n",
    "\n",
    "iter=0\n",
    "for epoch in range(n_epochs):\n",
    "  for i,(images, labels) in enumerate(train_dataloader):\n",
    "\n",
    "      ##1 Convert inputs/labels to Variable\n",
    "      images = Variable(images.view(-1,28*28))\n",
    "      labels = Variable(labels)\n",
    "\n",
    "      ##2 Clear the gradients \n",
    "      optimizer.zero_grad()\n",
    "\n",
    "      ##3 Get output given input\n",
    "      outputs = model(images)\n",
    "\n",
    "      ##4 Get Loss\n",
    "      loss = criterion(outputs,labels)\n",
    "\n",
    "      ##5 Get gradients wrt parameters\n",
    "      loss.backward()\n",
    "    \n",
    "      ##6 Update paramters using Gradients\n",
    "      optimizer.step()\n",
    "\n",
    "      ##7 Repeat\n",
    "\n",
    "      iter +=1\n",
    "      if iter % 500 == 0 :\n",
    "        correct = 0.\n",
    "        total = 0.\n",
    "      # Iter thorough test dataset\n",
    "        for images,labels in test_dataloader:\n",
    "          images = Variable(images.view(-1,28*28))\n",
    "          labels = Variable(labels)\n",
    "\n",
    "          outputs = model(images)\n",
    "          # Get the max value of the prediction\n",
    "          _,predicted=torch.max(outputs.data,1)\n",
    "          # number of labels \n",
    "          total += labels.size(0)\n",
    "          # Total correct predictions\n",
    "          correct += (predicted==labels).sum()\n",
    "\n",
    "        accuracy = 100*(correct/total)\n",
    "        print(\"Iteration: {} , Loss:{} , Accuracy:{}\".format(iter,loss.data,accuracy))"
   ]
  },
  {
   "cell_type": "code",
   "execution_count": null,
   "metadata": {
    "colab": {
     "base_uri": "https://localhost:8080/",
     "height": 544
    },
    "colab_type": "code",
    "id": "DFx1wFN79Hux",
    "outputId": "7e661fe2-f594-4ec6-f7fd-e02bcc7d3c19"
   },
   "outputs": [
    {
     "name": "stdout",
     "output_type": "stream",
     "text": [
      "# <NllLossBackward object at 0x7f61cbdc8048>\n",
      "## <LogSoftmaxBackward object at 0x7f61cbd9dc18>\n",
      "### <AddmmBackward object at 0x7f61cbd9d908>\n",
      "#### <AccumulateGrad object at 0x7f61cbd9d710>\n",
      "#### <ReluBackward0 object at 0x7f61cbd9da90>\n",
      "##### <AddmmBackward object at 0x7f61cbdcfac8>\n",
      "###### <AccumulateGrad object at 0x7f61cbdcfa20>\n",
      "###### <ReluBackward0 object at 0x7f61cbdcf128>\n",
      "####### <AddmmBackward object at 0x7f61cbdcf198>\n",
      "######## <AccumulateGrad object at 0x7f61cbdcfb70>\n",
      "######## <ReluBackward0 object at 0x7f61cbdcf588>\n",
      "######### <AddmmBackward object at 0x7f61cbdcfdd8>\n",
      "########## <AccumulateGrad object at 0x7f61cbdcf4a8>\n",
      "########## <ReluBackward0 object at 0x7f61cbc68048>\n",
      "########### <AddmmBackward object at 0x7f61cbc682b0>\n",
      "############ <AccumulateGrad object at 0x7f61cbdcfb38>\n",
      "############ <ReluBackward0 object at 0x7f61cbdcfcc0>\n",
      "############# <AddmmBackward object at 0x7f61cbdcf390>\n",
      "############## <AccumulateGrad object at 0x7f622659c6d8>\n",
      "############## <TBackward object at 0x7f61cbdcf278>\n",
      "############### <AccumulateGrad object at 0x7f61cbdcfe48>\n",
      "############ <TBackward object at 0x7f61cbdcfeb8>\n",
      "############# <AccumulateGrad object at 0x7f61cbdcfb00>\n",
      "########## <TBackward object at 0x7f61cbc68080>\n",
      "########### <AccumulateGrad object at 0x7f61cbdcfe48>\n",
      "######## <TBackward object at 0x7f61cbdcfc18>\n",
      "######### <AccumulateGrad object at 0x7f61cbdcf518>\n",
      "###### <TBackward object at 0x7f61cbdcf860>\n",
      "####### <AccumulateGrad object at 0x7f61cbdcfcc0>\n",
      "#### <TBackward object at 0x7f61cbd9df98>\n",
      "##### <AccumulateGrad object at 0x7f61cbdcf1d0>\n"
     ]
    }
   ],
   "source": [
    "print_graph(loss.grad_fn, 1)"
   ]
  }
 ],
 "metadata": {
  "colab": {
   "collapsed_sections": [],
   "name": "FeedForwardNN.ipynb",
   "provenance": []
  },
  "kernelspec": {
   "display_name": "Python 3",
   "language": "python",
   "name": "python3"
  },
  "language_info": {
   "codemirror_mode": {
    "name": "ipython",
    "version": 3
   },
   "file_extension": ".py",
   "mimetype": "text/x-python",
   "name": "python",
   "nbconvert_exporter": "python",
   "pygments_lexer": "ipython3",
   "version": "3.7.3"
  }
 },
 "nbformat": 4,
 "nbformat_minor": 2
}
