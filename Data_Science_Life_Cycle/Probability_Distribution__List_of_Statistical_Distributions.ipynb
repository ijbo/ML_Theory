{
 "cells": [
  {
   "cell_type": "markdown",
   "metadata": {},
   "source": [
    "# Probability Distribution: List of Statistical Distributions"
   ]
  },
  {
   "cell_type": "markdown",
   "metadata": {},
   "source": [
    "### What is a Probability Distribution?\n",
    "A probability distribution tells you what the probability of an event happening is. Probability distributions can show simple events, like tossing a coin or picking a card. They can also show much more complex events, like the probability of a certain drug successfully treating cancer.\n",
    "\n",
    "There are many different types of probability distributions in statistics including:\n",
    "\n",
    "- Basic probability distributions which can be shown on a probability distribution table.\n",
    "- Binomial distributions, which have “Successes” and “Failures.”\n",
    "- Normal distributions, sometimes called a Bell Curve.\n",
    "\n",
    "The sum of all the probabilities in a probability distribution is always 100% (or 1 as a decimal)."
   ]
  },
  {
   "cell_type": "markdown",
   "metadata": {},
   "source": [
    "### List of Statistical Distributions\n",
    "\n",
    "- Bernoulli Distribution\n",
    "- Beta Binomial Distribution\n",
    "- Beta Distribution.\n",
    "- Binomial Distribution.\n",
    "- Bimodal Distribution.\n",
    "- Bivariate Normal Distribution.\n",
    "- Bradford Distribution\n",
    "- Burr Distribution.\n",
    "- Categorical Distribution\n",
    "- Cauchy Distribution.\n",
    "- Compound Probability Distribution\n",
    "- Continuous Probability Distribution\n",
    "- Cumulative Frequency Distribution\n",
    "- Cumulative Distribution Function\n",
    "- Degenerate Distribution.\n",
    "- Dirichlet Distribution.\n",
    "- Discrete Probability Distribution\n",
    "- Empirical Distribution Function\n",
    "- Erlang Distribution.\n",
    "- Exponential Distribution.\n",
    "- Extreme Value Distribution.\n",
    "- F Distribution.\n",
    "- Factorial Distribution\n",
    "- Fat Tail Distribution.\n",
    "- Fisk Distribution.\n",
    "- Folded Normal / Half Normal Distribution.\n",
    "- G-and-H Distribution.\n",
    "- Generalized Error Distribution.\n",
    "- Geometric Distribution.\n",
    "- Gompertz Distribution.\n",
    "- Heavy Tailed Distribution\n",
    "- Hypergeometric Distribution.\n",
    "- Inverse Gaussian Distribution.\n",
    "- Inverse Normal\n",
    "- J Shaped Distribution.\n",
    "- Kent Distribution\n",
    "- Kumaraswamy Distribution\n",
    "- Laplace Distribution.\n",
    "- Lévy Distribution.\n",
    "- Lindley Distribution.\n",
    "- Lognormal Distribution.\n",
    "- Lomax Distribution.\n",
    "- Long Tail Distribution.\n",
    "- Marginal Distribution\n",
    "- Mixture Distribution\n",
    "- Multimodal Distribution.\n",
    "- Multinomial Distribution.\n",
    "- Multivariate Normal Distribution.\n",
    "- Nakagami Distribution.\n",
    "- Negative Binomial Distribution\n",
    "- Normal Distribution.\n",
    "- Open Ended Distribution\n",
    "- Pareto Distribution.\n",
    "- Pearson Distribution.\n",
    "- PERT Distribution.\n",
    "- Poisson Distribution.\n",
    "- Power Law Distribution\n",
    "- Rayleigh Distribution.\n",
    "- Reciprocal Distribution.\n",
    "- Relative Frequency Distribution\n",
    "- Rician Distribution.\n",
    "- Skewed Distribution\n",
    "- Stable Distribution\n",
    "- Symmetric Distribution\n",
    "- T Distribution.\n",
    "- Trapezoidal Distribution.\n",
    "- Triangular Distribution.\n",
    "- Truncated Normal Distribution.\n",
    "- Tukey Lambda Distribution.\n",
    "- Tweedie Distribution.\n",
    "- Uniform Distribution.\n",
    "- Unimodal Distribution.\n",
    "- U-Shaped Distribution.\n",
    "- Von Mises Distribution.\n",
    "- Wallenius Distribution.\n",
    "- Waring Distribution.\n",
    "- Weibull Distribution.\n",
    "- Wishart Distribution.\n",
    "- Yule-Simon Distribution\n",
    "- Zeta Distribution."
   ]
  },
  {
   "cell_type": "markdown",
   "metadata": {},
   "source": [
    "### Central Limit Theorem "
   ]
  },
  {
   "cell_type": "markdown",
   "metadata": {},
   "source": [
    "- In probability theory, the central limit theorem (CLT) establishes that, in some situations, when independent random variables are added, their properly normalized sum tends toward a normal distribution (informally a \"bell curve\") even if the original variables themselves are not normally distributed. The theorem is a key concept in probability theory because it implies that probabilistic and statistical methods that work for normal distributions can be applicable to many problems involving other types of distributions.\n",
    "\n",
    "- For example, suppose that a sample is obtained containing a large number of observations, each observation being randomly generated in a way that does not depend on the values of the other observations, and that the arithmetic mean of the observed values is computed. If this procedure is performed many times, the central limit theorem says that the distribution of the average will be closely approximated by a normal distribution. A simple example of this is that if one flips a coin many times the probability of getting a given number of heads in a series of flips will approach a normal curve, with mean equal to half the total number of flips in each series. (In the limit of an infinite number of flips, it will equal a normal curve.)"
   ]
  },
  {
   "cell_type": "markdown",
   "metadata": {},
   "source": [
    "https://www.khanacademy.org/math/ap-statistics/sampling-distribution-ap/sampling-distribution-mean/v/central-limit-theorem\n",
    "\n",
    "https://www.khanacademy.org/math/ap-statistics/sampling-distribution-ap/sampling-distribution-mean/v/sampling-distribution-of-the-sample-mean\n",
    "\n",
    "http://onlinestatbook.com\n",
    "\n",
    "##### To check the  sampling distribution  : http://onlinestatbook.com/stat_sim/sampling_dist/index.html"
   ]
  },
  {
   "cell_type": "markdown",
   "metadata": {},
   "source": [
    "So this is what's super cool about the central limit theorem.As your sample size becomes larger or you could even say as it approaches infinity.\n",
    "Even if you have a sample size of 10 or 20,you're already getting very close to a normal distribution,in fact about as good an approximation\n",
    "as we see in our everyday life.we can start with some Random distribution. This has nothing to do with a normal distribution.\n",
    "This was n equals 4, but if we have a sample size of n equals 10 or n equals 100, and we\n",
    "were to take 100 of these, instead of four here,and average them and then plot that average,\n",
    "the frequency of it, then we take 100 again, average them,take the mean, plot that again, and if we\n",
    "do that a bunch of times, in fact,if we were to do that an infinite time,\n",
    "we would find that we, especially if we had an infinite sample size,\n",
    "we would find a perfect normal distribution.That's the crazy thing. And it doesn't apply just to taking the sample mean.\n",
    "Here we took the sample mean every time. But you could have also taken the sample sum.\n",
    "The central limit theorem would have still applied. \n",
    "\n",
    "- Central limit thereom doesnot works for n=1 , as n gets larger it works better.\n",
    "- Central limit thereom says as n [sample size] -> infinity , then you get a real normal distibution.\n",
    "\n",
    "- skew, kurtosis tells us how normal the distribution is."
   ]
  },
  {
   "cell_type": "markdown",
   "metadata": {},
   "source": [
    "### Find the mean, median, mode, and range for the following list of values:\n",
    "13, 18, 13, 14, 13, 16, 14, 21, 13\n",
    "\n",
    "##### The mean is the usual average, so I'll add and then divide:\n",
    "\n",
    "(13 + 18 + 13 + 14 + 13 + 16 + 14 + 21 + 13) ÷ 9 = 15\n",
    "\n",
    "Note that the mean, in this case, isn't a value from the original list. This is a common result. You should not assume that your mean will be one of your original numbers.\n",
    "\n",
    "##### The median is the middle value, so first I'll have to rewrite the list in numerical order:\n",
    "\n",
    "13, 13, 13, 13, 14, 14, 16, 18, 21\n",
    "\n",
    "There are nine numbers in the list, so the middle one will be the (9 + 1) ÷ 2 = 10 ÷ 2 = 5th number:\n",
    "\n",
    "13, 13, 13, 13, 14, 14, 16, 18, 21\n",
    "\n",
    "So the median is 14.\n",
    "\n",
    "##### The mode is the number that is <u> repeated more often than any other </u>, so 13 is the mode.\n",
    "\n",
    "##### The largest value in the list is 21, and the smallest is 13, so the range is 21 – 13 = 8.\n",
    "\n",
    "mean: 15\n",
    "median: 14\n",
    "mode: 13\n",
    "range: 8"
   ]
  },
  {
   "cell_type": "code",
   "execution_count": null,
   "metadata": {},
   "outputs": [],
   "source": []
  }
 ],
 "metadata": {
  "kernelspec": {
   "display_name": "Python 3",
   "language": "python",
   "name": "python3"
  },
  "language_info": {
   "codemirror_mode": {
    "name": "ipython",
    "version": 3
   },
   "file_extension": ".py",
   "mimetype": "text/x-python",
   "name": "python",
   "nbconvert_exporter": "python",
   "pygments_lexer": "ipython3",
   "version": "3.7.1"
  }
 },
 "nbformat": 4,
 "nbformat_minor": 2
}
